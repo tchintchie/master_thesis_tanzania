{
 "cells": [
  {
   "cell_type": "code",
   "execution_count": 78,
   "id": "f6b97b48",
   "metadata": {},
   "outputs": [],
   "source": [
    "import pandas as pd\n",
    "import numpy as np\n",
    "import matplotlib.pyplot as plt\n",
    "import seaborn as sns\n",
    "import datetime as dt\n",
    "\n",
    "%matplotlib inline"
   ]
  },
  {
   "cell_type": "code",
   "execution_count": 79,
   "id": "4f9e0939",
   "metadata": {},
   "outputs": [],
   "source": [
    "train = pd.read_csv(\"training_set_values.csv\", parse_dates=[\"date_recorded\"])\n",
    "train_lbls = pd.read_csv(\"training_set_labels.csv\")\n",
    "test = pd.read_csv(\"test_set_values.csv\", parse_dates=[\"date_recorded\"])"
   ]
  },
  {
   "cell_type": "code",
   "execution_count": 80,
   "id": "11d50116",
   "metadata": {},
   "outputs": [],
   "source": [
    "train[\"status_group\"] = train_lbls.status_group"
   ]
  },
  {
   "cell_type": "code",
   "execution_count": 81,
   "id": "aa795c90",
   "metadata": {},
   "outputs": [
    {
     "data": {
      "text/plain": [
       "(59400, 41)"
      ]
     },
     "execution_count": 81,
     "metadata": {},
     "output_type": "execute_result"
    }
   ],
   "source": [
    "train.shape"
   ]
  },
  {
   "cell_type": "code",
   "execution_count": 82,
   "id": "96e1549a",
   "metadata": {},
   "outputs": [],
   "source": [
    "train.to_csv(\"train.csv\")"
   ]
  },
  {
   "cell_type": "code",
   "execution_count": 83,
   "id": "19e5bf8f",
   "metadata": {},
   "outputs": [
    {
     "data": {
      "text/html": [
       "<div>\n",
       "<style scoped>\n",
       "    .dataframe tbody tr th:only-of-type {\n",
       "        vertical-align: middle;\n",
       "    }\n",
       "\n",
       "    .dataframe tbody tr th {\n",
       "        vertical-align: top;\n",
       "    }\n",
       "\n",
       "    .dataframe thead th {\n",
       "        text-align: right;\n",
       "    }\n",
       "</style>\n",
       "<table border=\"1\" class=\"dataframe\">\n",
       "  <thead>\n",
       "    <tr style=\"text-align: right;\">\n",
       "      <th></th>\n",
       "      <th>id</th>\n",
       "      <th>amount_tsh</th>\n",
       "      <th>date_recorded</th>\n",
       "      <th>funder</th>\n",
       "      <th>gps_height</th>\n",
       "      <th>installer</th>\n",
       "      <th>longitude</th>\n",
       "      <th>latitude</th>\n",
       "      <th>wpt_name</th>\n",
       "      <th>num_private</th>\n",
       "      <th>...</th>\n",
       "      <th>water_quality</th>\n",
       "      <th>quality_group</th>\n",
       "      <th>quantity</th>\n",
       "      <th>quantity_group</th>\n",
       "      <th>source</th>\n",
       "      <th>source_type</th>\n",
       "      <th>source_class</th>\n",
       "      <th>waterpoint_type</th>\n",
       "      <th>waterpoint_type_group</th>\n",
       "      <th>status_group</th>\n",
       "    </tr>\n",
       "  </thead>\n",
       "  <tbody>\n",
       "    <tr>\n",
       "      <th>0</th>\n",
       "      <td>69572</td>\n",
       "      <td>6000.0</td>\n",
       "      <td>2011-03-14</td>\n",
       "      <td>Roman</td>\n",
       "      <td>1390</td>\n",
       "      <td>Roman</td>\n",
       "      <td>34.938093</td>\n",
       "      <td>-9.856322</td>\n",
       "      <td>none</td>\n",
       "      <td>0</td>\n",
       "      <td>...</td>\n",
       "      <td>soft</td>\n",
       "      <td>good</td>\n",
       "      <td>enough</td>\n",
       "      <td>enough</td>\n",
       "      <td>spring</td>\n",
       "      <td>spring</td>\n",
       "      <td>groundwater</td>\n",
       "      <td>communal standpipe</td>\n",
       "      <td>communal standpipe</td>\n",
       "      <td>functional</td>\n",
       "    </tr>\n",
       "    <tr>\n",
       "      <th>1</th>\n",
       "      <td>8776</td>\n",
       "      <td>0.0</td>\n",
       "      <td>2013-03-06</td>\n",
       "      <td>Grumeti</td>\n",
       "      <td>1399</td>\n",
       "      <td>GRUMETI</td>\n",
       "      <td>34.698766</td>\n",
       "      <td>-2.147466</td>\n",
       "      <td>Zahanati</td>\n",
       "      <td>0</td>\n",
       "      <td>...</td>\n",
       "      <td>soft</td>\n",
       "      <td>good</td>\n",
       "      <td>insufficient</td>\n",
       "      <td>insufficient</td>\n",
       "      <td>rainwater harvesting</td>\n",
       "      <td>rainwater harvesting</td>\n",
       "      <td>surface</td>\n",
       "      <td>communal standpipe</td>\n",
       "      <td>communal standpipe</td>\n",
       "      <td>functional</td>\n",
       "    </tr>\n",
       "    <tr>\n",
       "      <th>2</th>\n",
       "      <td>34310</td>\n",
       "      <td>25.0</td>\n",
       "      <td>2013-02-25</td>\n",
       "      <td>Lottery Club</td>\n",
       "      <td>686</td>\n",
       "      <td>World vision</td>\n",
       "      <td>37.460664</td>\n",
       "      <td>-3.821329</td>\n",
       "      <td>Kwa Mahundi</td>\n",
       "      <td>0</td>\n",
       "      <td>...</td>\n",
       "      <td>soft</td>\n",
       "      <td>good</td>\n",
       "      <td>enough</td>\n",
       "      <td>enough</td>\n",
       "      <td>dam</td>\n",
       "      <td>dam</td>\n",
       "      <td>surface</td>\n",
       "      <td>communal standpipe multiple</td>\n",
       "      <td>communal standpipe</td>\n",
       "      <td>functional</td>\n",
       "    </tr>\n",
       "    <tr>\n",
       "      <th>3</th>\n",
       "      <td>67743</td>\n",
       "      <td>0.0</td>\n",
       "      <td>2013-01-28</td>\n",
       "      <td>Unicef</td>\n",
       "      <td>263</td>\n",
       "      <td>UNICEF</td>\n",
       "      <td>38.486161</td>\n",
       "      <td>-11.155298</td>\n",
       "      <td>Zahanati Ya Nanyumbu</td>\n",
       "      <td>0</td>\n",
       "      <td>...</td>\n",
       "      <td>soft</td>\n",
       "      <td>good</td>\n",
       "      <td>dry</td>\n",
       "      <td>dry</td>\n",
       "      <td>machine dbh</td>\n",
       "      <td>borehole</td>\n",
       "      <td>groundwater</td>\n",
       "      <td>communal standpipe multiple</td>\n",
       "      <td>communal standpipe</td>\n",
       "      <td>non functional</td>\n",
       "    </tr>\n",
       "    <tr>\n",
       "      <th>4</th>\n",
       "      <td>19728</td>\n",
       "      <td>0.0</td>\n",
       "      <td>2011-07-13</td>\n",
       "      <td>Action In A</td>\n",
       "      <td>0</td>\n",
       "      <td>Artisan</td>\n",
       "      <td>31.130847</td>\n",
       "      <td>-1.825359</td>\n",
       "      <td>Shuleni</td>\n",
       "      <td>0</td>\n",
       "      <td>...</td>\n",
       "      <td>soft</td>\n",
       "      <td>good</td>\n",
       "      <td>seasonal</td>\n",
       "      <td>seasonal</td>\n",
       "      <td>rainwater harvesting</td>\n",
       "      <td>rainwater harvesting</td>\n",
       "      <td>surface</td>\n",
       "      <td>communal standpipe</td>\n",
       "      <td>communal standpipe</td>\n",
       "      <td>functional</td>\n",
       "    </tr>\n",
       "  </tbody>\n",
       "</table>\n",
       "<p>5 rows × 41 columns</p>\n",
       "</div>"
      ],
      "text/plain": [
       "      id  amount_tsh date_recorded        funder  gps_height     installer  \\\n",
       "0  69572      6000.0    2011-03-14         Roman        1390         Roman   \n",
       "1   8776         0.0    2013-03-06       Grumeti        1399       GRUMETI   \n",
       "2  34310        25.0    2013-02-25  Lottery Club         686  World vision   \n",
       "3  67743         0.0    2013-01-28        Unicef         263        UNICEF   \n",
       "4  19728         0.0    2011-07-13   Action In A           0       Artisan   \n",
       "\n",
       "   longitude   latitude              wpt_name  num_private  ... water_quality  \\\n",
       "0  34.938093  -9.856322                  none            0  ...          soft   \n",
       "1  34.698766  -2.147466              Zahanati            0  ...          soft   \n",
       "2  37.460664  -3.821329           Kwa Mahundi            0  ...          soft   \n",
       "3  38.486161 -11.155298  Zahanati Ya Nanyumbu            0  ...          soft   \n",
       "4  31.130847  -1.825359               Shuleni            0  ...          soft   \n",
       "\n",
       "  quality_group      quantity  quantity_group                source  \\\n",
       "0          good        enough          enough                spring   \n",
       "1          good  insufficient    insufficient  rainwater harvesting   \n",
       "2          good        enough          enough                   dam   \n",
       "3          good           dry             dry           machine dbh   \n",
       "4          good      seasonal        seasonal  rainwater harvesting   \n",
       "\n",
       "            source_type source_class              waterpoint_type  \\\n",
       "0                spring  groundwater           communal standpipe   \n",
       "1  rainwater harvesting      surface           communal standpipe   \n",
       "2                   dam      surface  communal standpipe multiple   \n",
       "3              borehole  groundwater  communal standpipe multiple   \n",
       "4  rainwater harvesting      surface           communal standpipe   \n",
       "\n",
       "  waterpoint_type_group    status_group  \n",
       "0    communal standpipe      functional  \n",
       "1    communal standpipe      functional  \n",
       "2    communal standpipe      functional  \n",
       "3    communal standpipe  non functional  \n",
       "4    communal standpipe      functional  \n",
       "\n",
       "[5 rows x 41 columns]"
      ]
     },
     "execution_count": 83,
     "metadata": {},
     "output_type": "execute_result"
    }
   ],
   "source": [
    "train.head()"
   ]
  },
  {
   "cell_type": "code",
   "execution_count": 84,
   "id": "5553d346",
   "metadata": {},
   "outputs": [
    {
     "data": {
      "text/plain": [
       "id                                         20198\n",
       "amount_tsh                                   0.0\n",
       "date_recorded                2004-05-01 00:00:00\n",
       "funder                    Government Of Tanzania\n",
       "gps_height                                    86\n",
       "installer                                    DWE\n",
       "longitude                              38.959776\n",
       "latitude                               -5.247278\n",
       "wpt_name                            Kwa Bi Shoga\n",
       "num_private                                    0\n",
       "basin                                    Pangani\n",
       "subvillage                         Mapojoni Kati\n",
       "region                                     Tanga\n",
       "region_code                                    4\n",
       "district_code                                  4\n",
       "lga                                       Muheza\n",
       "ward                                     Ngomeni\n",
       "population                                   120\n",
       "public_meeting                              True\n",
       "recorded_by              GeoData Consultants Ltd\n",
       "scheme_management                            VWC\n",
       "scheme_name                             Borehole\n",
       "permit                                      True\n",
       "construction_year                           2008\n",
       "extraction_type                    india mark ii\n",
       "extraction_type_group              india mark ii\n",
       "extraction_type_class                   handpump\n",
       "management                                   vwc\n",
       "management_group                      user-group\n",
       "payment                                never pay\n",
       "payment_type                           never pay\n",
       "water_quality                    salty abandoned\n",
       "quality_group                              salty\n",
       "quantity                                     dry\n",
       "quantity_group                               dry\n",
       "source                              shallow well\n",
       "source_type                         shallow well\n",
       "source_class                         groundwater\n",
       "waterpoint_type                        hand pump\n",
       "waterpoint_type_group                  hand pump\n",
       "status_group                      non functional\n",
       "Name: 8729, dtype: object"
      ]
     },
     "execution_count": 84,
     "metadata": {},
     "output_type": "execute_result"
    }
   ],
   "source": [
    "train.iloc[8729]"
   ]
  },
  {
   "cell_type": "code",
   "execution_count": 85,
   "id": "563e0e75",
   "metadata": {
    "scrolled": true
   },
   "outputs": [
    {
     "data": {
      "image/png": "[encoded data removed]",
      "text/plain": [
       "<Figure size 432x288 with 1 Axes>"
      ]
     },
     "metadata": {
      "needs_background": "light"
     },
     "output_type": "display_data"
    }
   ],
   "source": [
    "train.status_group.value_counts(normalize=True).plot(kind = \"bar\")\n",
    "plt.show()"
   ]
  },
  {
   "cell_type": "code",
   "execution_count": 86,
   "id": "7250449e",
   "metadata": {},
   "outputs": [
    {
     "name": "stdout",
     "output_type": "stream",
     "text": [
      "<class 'pandas.core.frame.DataFrame'>\n",
      "RangeIndex: 59400 entries, 0 to 59399\n",
      "Data columns (total 41 columns):\n",
      " #   Column                 Non-Null Count  Dtype         \n",
      "---  ------                 --------------  -----         \n",
      " 0   id                     59400 non-null  int64         \n",
      " 1   amount_tsh             59400 non-null  float64       \n",
      " 2   date_recorded          59400 non-null  datetime64[ns]\n",
      " 3   funder                 55765 non-null  object        \n",
      " 4   gps_height             59400 non-null  int64         \n",
      " 5   installer              55745 non-null  object        \n",
      " 6   longitude              59400 non-null  float64       \n",
      " 7   latitude               59400 non-null  float64       \n",
      " 8   wpt_name               59400 non-null  object        \n",
      " 9   num_private            59400 non-null  int64         \n",
      " 10  basin                  59400 non-null  object        \n",
      " 11  subvillage             59029 non-null  object        \n",
      " 12  region                 59400 non-null  object        \n",
      " 13  region_code            59400 non-null  int64         \n",
      " 14  district_code          59400 non-null  int64         \n",
      " 15  lga                    59400 non-null  object        \n",
      " 16  ward                   59400 non-null  object        \n",
      " 17  population             59400 non-null  int64         \n",
      " 18  public_meeting         56066 non-null  object        \n",
      " 19  recorded_by            59400 non-null  object        \n",
      " 20  scheme_management      55523 non-null  object        \n",
      " 21  scheme_name            31234 non-null  object        \n",
      " 22  permit                 56344 non-null  object        \n",
      " 23  construction_year      59400 non-null  int64         \n",
      " 24  extraction_type        59400 non-null  object        \n",
      " 25  extraction_type_group  59400 non-null  object        \n",
      " 26  extraction_type_class  59400 non-null  object        \n",
      " 27  management             59400 non-null  object        \n",
      " 28  management_group       59400 non-null  object        \n",
      " 29  payment                59400 non-null  object        \n",
      " 30  payment_type           59400 non-null  object        \n",
      " 31  water_quality          59400 non-null  object        \n",
      " 32  quality_group          59400 non-null  object        \n",
      " 33  quantity               59400 non-null  object        \n",
      " 34  quantity_group         59400 non-null  object        \n",
      " 35  source                 59400 non-null  object        \n",
      " 36  source_type            59400 non-null  object        \n",
      " 37  source_class           59400 non-null  object        \n",
      " 38  waterpoint_type        59400 non-null  object        \n",
      " 39  waterpoint_type_group  59400 non-null  object        \n",
      " 40  status_group           59400 non-null  object        \n",
      "dtypes: datetime64[ns](1), float64(3), int64(7), object(30)\n",
      "memory usage: 18.6+ MB\n"
     ]
    }
   ],
   "source": [
    "train.info()"
   ]
  },
  {
   "cell_type": "code",
   "execution_count": 87,
   "id": "13717e76",
   "metadata": {},
   "outputs": [
    {
     "data": {
      "text/plain": [
       "scheme_name          28166\n",
       "scheme_management     3877\n",
       "installer             3655\n",
       "funder                3635\n",
       "public_meeting        3334\n",
       "permit                3056\n",
       "subvillage             371\n",
       "dtype: int64"
      ]
     },
     "execution_count": 87,
     "metadata": {},
     "output_type": "execute_result"
    }
   ],
   "source": [
    "train.isna().sum().sort_values(ascending=False)[:7]"
   ]
  },
  {
   "cell_type": "code",
   "execution_count": 88,
   "id": "5df5888a",
   "metadata": {},
   "outputs": [
    {
     "data": {
      "text/plain": [
       "20709"
      ]
     },
     "execution_count": 88,
     "metadata": {},
     "output_type": "execute_result"
    }
   ],
   "source": [
    "(train.construction_year == 0).sum()"
   ]
  },
  {
   "cell_type": "code",
   "execution_count": 89,
   "id": "194c02c5",
   "metadata": {},
   "outputs": [],
   "source": [
    "## when construction year == 0 let´s set it to date_recorded.year\n",
    "train.loc[train.construction_year == 0, \"construction_year\"] = train.date_recorded.dt.year\n",
    "## we also have construction years LATER than date_recorded which results in negative age! We assume they are NEW!\n",
    "train.loc[train.construction_year > train.date_recorded.dt.year, \"construction_year\"] = train.date_recorded.dt.year"
   ]
  },
  {
   "cell_type": "code",
   "execution_count": 90,
   "id": "523385bb",
   "metadata": {},
   "outputs": [],
   "source": [
    "# age at time of recording\n",
    "train[\"age\"] = train.date_recorded.dt.year - train.construction_year"
   ]
  },
  {
   "cell_type": "code",
   "execution_count": null,
   "id": "6dbb5ec0",
   "metadata": {},
   "outputs": [],
   "source": []
  },
  {
   "cell_type": "code",
   "execution_count": null,
   "id": "4744a0c0",
   "metadata": {},
   "outputs": [],
   "source": []
  }
 ],
 "metadata": {
  "kernelspec": {
   "display_name": "Python 3 (ipykernel)",
   "language": "python",
   "name": "python3"
  },
  "language_info": {
   "codemirror_mode": {
    "name": "ipython",
    "version": 3
   },
   "file_extension": ".py",
   "mimetype": "text/x-python",
   "name": "python",
   "nbconvert_exporter": "python",
   "pygments_lexer": "ipython3",
   "version": "3.7.12"
  }
 },
 "nbformat": 4,
 "nbformat_minor": 5
}
